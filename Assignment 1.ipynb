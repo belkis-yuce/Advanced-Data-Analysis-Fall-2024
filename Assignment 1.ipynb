{
 "cells": [
  {
   "cell_type": "markdown",
   "id": "12ea3e3e-4508-451e-9a17-48958bec68bb",
   "metadata": {},
   "source": [
    "# Assignment 1 - 22/10/2024"
   ]
  },
  {
   "cell_type": "markdown",
   "id": "3a5721bd-2d0f-42b7-ae41-479a8fb90ab6",
   "metadata": {},
   "source": [
    "**Objective:** Use your basic programming and problem-solving skills to tackle following tasks.\n",
    "\n",
    "In this assignment, you will solve five problems. I would like to remind you that even if you are allowed to work with your classmates, you must submit YOUR OWN solutions at the end, that is, try to develop your own path for each solution.\n",
    "\n",
    "There are five problems:\n",
    "\n",
    "1. Produce a number guessing game, in which the user will make a guess from 1 to 20, and the program is going to report whether the number is correct.\n",
    "\n",
    "The game is expected to remain until the user guess the correct number. For any wrong answer, the program should also report whether the guessed number is higher or lower than the correct number.\n",
    "\n",
    "*Hint:* The program should first create a random correct number, from 1 to 20."
   ]
  },
  {
   "cell_type": "code",
   "execution_count": 75,
   "id": "5ea31ce2-7f00-42c2-ac65-9c29f68289ef",
   "metadata": {},
   "outputs": [
    {
     "name": "stdin",
     "output_type": "stream",
     "text": [
      "Guess a number from 1 to 20: 15\n"
     ]
    },
    {
     "name": "stdout",
     "output_type": "stream",
     "text": [
      "Guess a lower number!\n"
     ]
    },
    {
     "name": "stdin",
     "output_type": "stream",
     "text": [
      "Guess a number from 1 to 20: 12\n"
     ]
    },
    {
     "name": "stdout",
     "output_type": "stream",
     "text": [
      "Guess a lower number!\n"
     ]
    },
    {
     "name": "stdin",
     "output_type": "stream",
     "text": [
      "Guess a number from 1 to 20: 8\n"
     ]
    },
    {
     "name": "stdout",
     "output_type": "stream",
     "text": [
      "Guess a higher number!\n"
     ]
    },
    {
     "name": "stdin",
     "output_type": "stream",
     "text": [
      "Guess a number from 1 to 20: 9\n"
     ]
    },
    {
     "name": "stdout",
     "output_type": "stream",
     "text": [
      "True!\n"
     ]
    }
   ],
   "source": [
    "import random\n",
    "#random sayı üretmek için grekli fonksiyonum.\n",
    "a_list = list(range(1, 21))\n",
    "#1'den 20'ye kadar elemanı olan bir liste oluşturuyorum.\n",
    "a_number = random.choice(a_list)\n",
    "#Oluşturduğum listeden rastgele bir sayı seçmesini sağlıyorum.\n",
    "def guess_game():\n",
    "    while True:\n",
    "        try:\n",
    "            guess = int(input(\"Guess a number from 1 to 20:\"))\n",
    "#1'den 20'ya kadar rastgele bir sayı tahmin etmesini istiyorum ve bunu input olarak yazabileceği bir şekilde bir şekilde soruyorum. \n",
    "            if guess == a_number:\n",
    "                print(\"True!\")\n",
    "                break\n",
    "            elif guess < a_number:\n",
    "                print(\"Guess a higher number!\")\n",
    "            else:\n",
    "                print(\"Guess a lower number!\")\n",
    "        except ValueError:\n",
    "            print(\"Please guess a number from 1 to 20!\")\n",
    "#Eğer sayı random sayı ile aynıysa \"Doğru\" ifadesi çıkıyor ve döngüden çıkıyor, eğer sayı random sayıdan küçükse \"Daha büyük\", random sayıdan küçükse \"Daha büyük\" bir sayı yazması gerektiği uyarısı veriyor. Eğer sayı dışında bir değer girmeye çalışırsa 1 ile 20 arasında bir sayı girmesi gerektiğini hatırlatıyorum.\n",
    "\n",
    "guess_game()"
   ]
  },
  {
   "cell_type": "markdown",
   "id": "87ce81a8-6d31-4864-a1f8-0330f8ead9f9",
   "metadata": {},
   "source": [
    "2. Given a sorted array of distinct integers and a target value, return the index if the target is found. If \n",
    "not, return the index where it would b  if it were inserted in order.r\r"
   ]
  },
  {
   "cell_type": "code",
   "execution_count": 103,
   "id": "b630a5c9-747f-460d-ad6e-c2210aa734f7",
   "metadata": {},
   "outputs": [
    {
     "data": {
      "text/plain": [
       "[0, 1, 2, 3, 4, 5, 6, 7]"
      ]
     },
     "execution_count": 103,
     "metadata": {},
     "output_type": "execute_result"
    }
   ],
   "source": [
    "numbers = [1, 6, 3, 5, 7, 2, 4]  \n",
    "#Numbers adında üzerinde çalışacağım bir liste tanımlıyorum.\n",
    "target = 0\n",
    "#Indexini bulmak istediğim bir değişken tanımlıyorum.\n",
    "def indexing (numbers, target):\n",
    "    find= False\n",
    "#Değişkeni bulup bulamadığımı belirlemek için bir değişken tanımlıyorum.\n",
    "    for i in range(len(numbers)):  \n",
    "        if numbers[i] == target: \n",
    "            print(f\"Target {target} is at {i}.\") \n",
    "            find= True\n",
    "#Eğer değişken listede varsa find olarak tanımladığım değişkeni doğru kabul ediyorum.\n",
    "            return indexing\n",
    "#Döngü ile numbers'ı döndürerek target ile item eşit mi diye kontrol ediyorum. Eğer item ile target eşitse indexini print ediyorum.\n",
    "    if not find:\n",
    "            numbers.sort()\n",
    "#Eğer sayı listede yoksa, önce listeyi küçükten büyüğe sıralıyorum.\n",
    "            index_insert = 0\n",
    "            for i in range(len(numbers)):\n",
    "                if numbers[i] < target:  \n",
    "                    index_insert += 1  \n",
    "#Nereye insert edeceğimi bulmak için kendisinden küçük olan sayıyı bulmasını sağlıyorum ve onun peşine ekiyorum.\n",
    "                else:\n",
    "                    break  \n",
    "#Eğer target itemden büyükse döngüden çıkmasını istiyorum.\n",
    "            numbers.insert(index_insert, target)\n",
    "    return numbers\n",
    "indexing(numbers, target) "
   ]
  },
  {
   "cell_type": "markdown",
   "id": "e876d19c-e24c-4d45-9306-86beeb5bdc47",
   "metadata": {},
   "source": [
    "3. Given two binary strings a and b, return their sum as a binary string.0\"\r"
   ]
  },
  {
   "cell_type": "code",
   "execution_count": 115,
   "id": "feb627f7-0578-4c40-afae-ce26f190dcbe",
   "metadata": {},
   "outputs": [
    {
     "name": "stdout",
     "output_type": "stream",
     "text": [
      "1100\n"
     ]
    }
   ],
   "source": [
    "x = '1010'\n",
    "y = '10'\n",
    "#Toplama yapacağım iki string değişken tanımlıyorum.\n",
    "\n",
    "x_list = list(x)\n",
    "y_list = list(y)\n",
    "#Slicing yapabilmek için stringleri listeye dönüştürüyorum.\n",
    "\n",
    "x_int_list = [int(i) for i in x_list]\n",
    "y_int_list = [int(i) for i in y_list]\n",
    "\n",
    "output = []\n",
    "carry = 0\n",
    "#Çıktıyı yazdırmak için bir output listesi ve eldeleri eklemek için bir carry değişkeni oluşturuyorum.\n",
    "\n",
    "max_length = max(len(x_int_list), len(y_int_list))\n",
    "#x ve y değişkenlerimden en uzun olanı bulmak için uzunluklarının max değerini buluyorum.\n",
    "\n",
    "for i in range(max_length):\n",
    "    num_x = x_int_list[-1 - i] if i < len(x_int_list) else 0\n",
    "    num_y = y_int_list[-1 - i] if i < len(y_int_list) else 0   \n",
    "    total = num_x + num_y + carry\n",
    "#x ve y'deki değerlerle eldeyi tıpluyorum ve döngüyle her adımda bir önceki iteme (sola) kayıyorum.\n",
    "    output.insert(0, total % 2)  \n",
    "    if total > 1:\n",
    "            carry = 1\n",
    "    else:\n",
    "            carry = 0\n",
    "#Eğer toplam 1'den büyükse sonuca 0 yazıp carrye 1 ekliyorum.\n",
    "\n",
    "if carry:\n",
    "    output.insert(0, carry)\n",
    "#Toplamalar sonunda eğer elde kaldıysa onu da listenin başına ekliyorum.\n",
    "\n",
    "\n",
    "result = ''.join(map(str, output))\n",
    "#Listeyi tekrar stringe çeviriyorum.\n",
    "print(result)  \n"
   ]
  },
  {
   "cell_type": "markdown",
   "id": "8db68d65-993f-40fe-a2d1-655c45d1111d",
   "metadata": {},
   "source": [
    "4. Given a non-empty array of integers numbers, every element appears twice except for one. Find that\r\n",
    "single one."
   ]
  },
  {
   "cell_type": "code",
   "execution_count": 73,
   "id": "9ff71d45-3a58-4f01-ae7b-6d791829f3c5",
   "metadata": {},
   "outputs": [
    {
     "name": "stdout",
     "output_type": "stream",
     "text": [
      "9\n"
     ]
    }
   ],
   "source": [
    "numbers = [5, 9, 1, 2, 7, 1, 2, 5 , 7]\n",
    "#Üzerinde çalışacağım örnek bir liste oluşturuyorum.\n",
    "def number_one(numbers):\n",
    "    there_is = []\n",
    "#Inputumda tek olan sayıyı ayırt edebilmek için listemde tekrarı olanları atayacağım bir liste daha oluşturuyorum.\n",
    "    for i in numbers:\n",
    "        if i in there_is:\n",
    "            there_is.remove(i)  \n",
    "        else:\n",
    "            there_is.append(i)  \n",
    "    return there_is.pop()  \n",
    "# numbers listesindeki her bir itemi döngüye sokarak tekrarı olup olmadığına bakıyorum. Eğer sayı there_is listesinde varsa listeye konulmaz, yoksa listeye eklenir.\n",
    "\n",
    "result = number_one(numbers)\n",
    "print(result) "
   ]
  },
  {
   "cell_type": "markdown",
   "id": "4f7b5846-856c-433a-8d63-ddb65ecfd9bf",
   "metadata": {},
   "source": [
    "5. The DNA sequence is composed of a series of nucleotides abbreviated as 'A', 'C', 'G', and 'T'.\r\n",
    "For example, \"ACGAATTCCG\" is a DNA sequence. When studying DNA, it is useful to identify repeated\r\n",
    "sequences within the DNA.\r\n",
    "Given a string s that represents a DNA sequence, return all the 10-letter-long sequences (substrings)\r\n",
    "that occur more than once in a DNA molecule. You may return the answer in any order.\r\n",
    "For instae:\r\n",
    "• Input: s = \"AAAAACCCCCAAAAACCCCCCAAAAAGGTT\"\r\n",
    "• Output: [\"AAAAACCCCC\",\"CCCCCAAAAA\"]"
   ]
  },
  {
   "cell_type": "code",
   "execution_count": 67,
   "id": "8cd439c7-6012-4da6-a853-b9234fecd503",
   "metadata": {},
   "outputs": [
    {
     "name": "stdout",
     "output_type": "stream",
     "text": [
      "['AAAAACCCCC', 'CCCCCAAAAA']\n"
     ]
    }
   ],
   "source": [
    "s = \"AAAAACCCCCAAAAACCCCCCAAAAAGGTT\"\n",
    "dna_groups=[]\n",
    "#Tüm 10'lu dna dizilimlerini kaydetmek için boş bir liste oluşturuyorum.\n",
    "different=[]\n",
    "same=[]\n",
    "#Aynı ve farklı olanları belirleyip kaydetmek için ayrı iki liste daha oluşturuyorum.\n",
    "def dna(x):\n",
    "    for i in range(len(x) - 9): \n",
    "#Bütün inputumu 10'arlı şekilde alıyorum.\n",
    "        sub_group=x[i:i + 10]  \n",
    "#i'den i+10'a kadar olan kısımları sub_group'a atıyorum.\n",
    "        dna_groups.append(sub_group)  \n",
    "#Her bir sub_group'u dna_group listemin sonuna yeni bir item olarak ekliyorum.\n",
    "        if sub_group in same and sub_group not in different:\n",
    "            different.append(sub_group)  \n",
    "        elif sub_group not in same:\n",
    "            same.append(sub_group)  \n",
    "#Eğer 10'lu grubu daha önce görmüşsem same görmemişsem different grubuna atıyorum.\n",
    "    return dna_groups\n",
    "    \n",
    "result = dna(s)\n",
    "print(different)\n",
    "    "
   ]
  }
 ],
 "metadata": {
  "kernelspec": {
   "display_name": "Python 3 (ipykernel)",
   "language": "python",
   "name": "python3"
  },
  "language_info": {
   "codemirror_mode": {
    "name": "ipython",
    "version": 3
   },
   "file_extension": ".py",
   "mimetype": "text/x-python",
   "name": "python",
   "nbconvert_exporter": "python",
   "pygments_lexer": "ipython3",
   "version": "3.12.4"
  }
 },
 "nbformat": 4,
 "nbformat_minor": 5
}
